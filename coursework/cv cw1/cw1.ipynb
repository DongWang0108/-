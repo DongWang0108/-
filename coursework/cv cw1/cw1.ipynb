{
 "cells": [
  {
   "cell_type": "code",
   "execution_count": 1,
   "metadata": {
    "pycharm": {
     "name": "#%%\n"
    }
   },
   "outputs": [],
   "source": [
    "import math\n",
    "import numpy as np\n",
    "#from MyConvolution import convolve\n",
    "def myHybridImages(lowImage: np.ndarray, lowSigma: float, highImage: np.ndarray, highSigma: float) -> np.ndarray:\n",
    "    high_kernel = makeGaussianKernel(highSigma)\n",
    "    low_kernel = makeGaussianKernel(lowSigma)\n",
    "    \n",
    "    #i_1*G_1\n",
    "    high_pass_image = convolve(highImage,high_kernel)\n",
    "    low_pass_image = convolve(lowImage,low_kernel)\n",
    "    \n",
    "    weightlow = 1\n",
    "    weighthigh = 1\n",
    "    \n",
    "    high_pass_image = highImage - high_pass_image\n",
    "    \n",
    "    hybrid_image = low_pass_image*weightlow + high_pass_image*weighthigh\n",
    "    \n",
    "\n",
    "\n",
    "    return hybrid_image\n",
    " # Your code here.\n"
   ]
  },
  {
   "cell_type": "code",
   "execution_count": 2,
   "metadata": {
    "pycharm": {
     "name": "#%%\n"
    }
   },
   "outputs": [],
   "source": [
    "def makeGaussianKernel(sigma: float) -> np.ndarray:\n",
    "    kernel_size = int(8*sigma+1)\n",
    "    if kernel_size % 2 != 0:\n",
    "        kernel_size += 1\n",
    "    #center os half of window size\n",
    "    center = (kernel_size -1)/2\n",
    "    \n",
    "    #norma;ise by the total sum\n",
    "    kernel_sum = 0\n",
    "    \n",
    "    kernel = np.zeros((kernel_size,kernel_size))\n",
    "    coef = 1/(2*np.pi*sigma*sigma)\n",
    "    for i in range(kernel_size):\n",
    "        for j in range(kernel_size):\n",
    "            x = pow((i-center),2)\n",
    "            y = pow((j-center),2)\n",
    "            fenzi = -(x+y)\n",
    "            fenmu = 2*sigma*sigma\n",
    "            kernel[i][j] = np.exp(fenzi/fenmu)/coef\n",
    "            kernel_sum += kernel[i][j]\n",
    "    \n",
    "    kernel = kernel/kernel_sum\n",
    "    return kernel"
   ]
  },
  {
   "cell_type": "code",
   "execution_count": 3,
   "metadata": {
    "pycharm": {
     "name": "#%%\n"
    }
   },
   "outputs": [],
   "source": [
    "def calculate_convolution(image,kernel):\n",
    "    kernel = np.rot90(kernel,2)\n",
    "    kh = int(kernel.shape[0])\n",
    "    kw = int(kernel.shape[1])\n",
    "    print(image.shape)\n",
    "    print(kh)\n",
    "    print(kw)\n",
    "    if ((kw % 2 != 0) & (kh % 2 != 0)):\n",
    "        image_rows = image.shape[0] - kh + 1\n",
    "        image_cols = image.shape[1] - kw + 1\n",
    "        new_conv = np.zeros((image_rows,image_cols))\n",
    "    else:\n",
    "        image_rows = image.shape[0] - kh + 1\n",
    "        image_cols = image.shape[1] - kw + 1\n",
    "        new_conv = np.zeros((image_rows,image_cols))\n",
    "        for i in range(int(image_rows)):\n",
    "            for j in range(int(image_cols)):\n",
    "                result = (image[i : i+kh,j:j+kw]*kernel).sum()\n",
    "                new_conv[i][j] = result\n",
    "    return new_conv"
   ]
  },
  {
   "cell_type": "code",
   "execution_count": 4,
   "metadata": {
    "pycharm": {
     "name": "#%%\n"
    }
   },
   "outputs": [],
   "source": [
    "def get_padding(padding_2):\n",
    "    if padding_2 == 0:\n",
    "        padding_before = 0\n",
    "        padding_after = 0\n",
    "        return int(padding_before),int(padding_after)\n",
    "    elif padding_2 < 2:\n",
    "        padding_before = 0\n",
    "        padding_after = 1\n",
    "        return int(padding_before),int(padding_after)\n",
    "    elif padding_2 % 2 == 0:\n",
    "        padding_before = padding_2/2\n",
    "        padding_after = padding_2/2\n",
    "        return int(padding_before),int(padding_after)\n",
    "    else:\n",
    "        padding_2 -= 1\n",
    "        padding_before = padding_2/2+1\n",
    "        padding_after = padding_2/2\n",
    "        return int(padding_before),int(padding_after)"
   ]
  },
  {
   "cell_type": "code",
   "execution_count": 5,
   "metadata": {
    "pycharm": {
     "name": "#%%\n"
    }
   },
   "outputs": [],
   "source": [
    "import numpy as np\n",
    "from PIL import Image\n",
    "def convolve(image: np.ndarray, kernel: np.ndarray) -> np.ndarray:\n",
    "    \"\"\"\n",
    "    Convolve an image with a kernel assuming zero-padding of the image to handle the borders\n",
    "    :param image: the image (either greyscale shape=(rows,cols) or colour shape=(rows,cols,channels))\n",
    "    :type numpy.ndarray\n",
    "    :param kernel: the kernel (shape=(kheight,kwidth); both dimensions odd)\n",
    "    :type numpy.ndarray\n",
    "    :returns the convolved image (of the same shape as the input image)\n",
    "    :rtype numpy.ndarray\n",
    "    \"\"\"\n",
    "    # Your code here. You'll need to vectorise your implementation to ensure it runs\n",
    "    # at a reasonable speed.\n",
    "    \n",
    "    stride = 1\n",
    "    if len(image.shape) == 3:\n",
    "        rows = image.shape[0]\n",
    "        cols = image.shape[1]\n",
    "        channels = image.shape[2]\n",
    "    else:\n",
    "        rows = image.shape[0]\n",
    "        cols = image.shape[1]\n",
    "        \n",
    "    kh = kernel.shape[0]\n",
    "    kw = kernel.shape[1]\n",
    "        \n",
    "    rows_2padding = (rows-1)*stride+kh - rows\n",
    "    cols_2padding = (cols-1)*stride+kw - cols\n",
    "        \n",
    "    rows_before,rows_after = get_padding(rows_2padding)\n",
    "    print(\"rows_before\",rows_before)\n",
    "    print(\"rows_after\",rows_after)\n",
    "    cols_before,cols_after = get_padding(cols_2padding)\n",
    "    print(\"cols_before\",cols_before)\n",
    "    print(\"cols_after\",cols_after)\n",
    "    if len(image.shape) == 3:\n",
    "        image_behind = np.pad(image,((rows_before,rows_after),(cols_before,cols_after),(0,0)), 'constant', constant_values=0)\n",
    "        image_behind_r = image_behind[:,:,0]\n",
    "        image_behind_g = image_behind[:,:,1]\n",
    "        image_behind_b = image_behind[:,:,2]\n",
    "        result_r = calculate_convolution(image_behind_r,kernel)\n",
    "        result_g = calculate_convolution(image_behind_g,kernel)\n",
    "        result_b = calculate_convolution(image_behind_b,kernel)\n",
    "        convolved_image = np.dstack([result_r,result_g,result_b])\n",
    "    else:\n",
    "        image_behind = np.pad(image,((rows_before,rows_after),(cols_before,cols_after)), 'constant', constant_values=0)\n",
    "        convolved_image = calculate_convolution(image_behind,kernel)\n",
    "        \n",
    "    return convolved_image"
   ]
  },
  {
   "cell_type": "code",
   "execution_count": 6,
   "metadata": {
    "pycharm": {
     "name": "#%%\n"
    }
   },
   "outputs": [
    {
     "ename": "FileNotFoundError",
     "evalue": "[Errno 2] No such file or directory: './bicycle.bmp'",
     "output_type": "error",
     "traceback": [
      "\u001B[1;31m---------------------------------------------------------------------------\u001B[0m",
      "\u001B[1;31mFileNotFoundError\u001B[0m                         Traceback (most recent call last)",
      "\u001B[1;32m<ipython-input-6-e33aa47a5519>\u001B[0m in \u001B[0;36m<module>\u001B[1;34m\u001B[0m\n\u001B[1;32m----> 1\u001B[1;33m \u001B[0mimage\u001B[0m \u001B[1;33m=\u001B[0m \u001B[0mImage\u001B[0m\u001B[1;33m.\u001B[0m\u001B[0mopen\u001B[0m\u001B[1;33m(\u001B[0m\u001B[1;34m'./bicycle.bmp'\u001B[0m\u001B[1;33m)\u001B[0m\u001B[1;33m\u001B[0m\u001B[1;33m\u001B[0m\u001B[0m\n\u001B[0m\u001B[0;32m      2\u001B[0m \u001B[0mimage\u001B[0m \u001B[1;33m=\u001B[0m \u001B[0mnp\u001B[0m\u001B[1;33m.\u001B[0m\u001B[0marray\u001B[0m\u001B[1;33m(\u001B[0m\u001B[0mimage\u001B[0m\u001B[1;33m)\u001B[0m\u001B[1;33m\u001B[0m\u001B[1;33m\u001B[0m\u001B[0m\n\u001B[0;32m      3\u001B[0m \u001B[0mimage2\u001B[0m \u001B[1;33m=\u001B[0m \u001B[0mImage\u001B[0m\u001B[1;33m.\u001B[0m\u001B[0mopen\u001B[0m\u001B[1;33m(\u001B[0m\u001B[1;34m'./motorcycle.bmp'\u001B[0m\u001B[1;33m)\u001B[0m\u001B[1;33m\u001B[0m\u001B[1;33m\u001B[0m\u001B[0m\n\u001B[0;32m      4\u001B[0m \u001B[0mimage2\u001B[0m \u001B[1;33m=\u001B[0m \u001B[0mnp\u001B[0m\u001B[1;33m.\u001B[0m\u001B[0marray\u001B[0m\u001B[1;33m(\u001B[0m\u001B[0mimage2\u001B[0m\u001B[1;33m)\u001B[0m\u001B[1;33m\u001B[0m\u001B[1;33m\u001B[0m\u001B[0m\n\u001B[0;32m      5\u001B[0m \u001B[0mfinal\u001B[0m \u001B[1;33m=\u001B[0m \u001B[0mmyHybridImages\u001B[0m\u001B[1;33m(\u001B[0m\u001B[0mimage\u001B[0m\u001B[1;33m,\u001B[0m\u001B[1;36m1\u001B[0m\u001B[1;33m,\u001B[0m\u001B[0mimage2\u001B[0m\u001B[1;33m,\u001B[0m\u001B[1;36m2\u001B[0m\u001B[1;33m)\u001B[0m\u001B[1;33m\u001B[0m\u001B[1;33m\u001B[0m\u001B[0m\n",
      "\u001B[1;32mC:\\Users\\dell\\anaconda3\\lib\\site-packages\\PIL\\Image.py\u001B[0m in \u001B[0;36mopen\u001B[1;34m(fp, mode, formats)\u001B[0m\n\u001B[0;32m   2973\u001B[0m \u001B[1;33m\u001B[0m\u001B[0m\n\u001B[0;32m   2974\u001B[0m     \u001B[1;32mif\u001B[0m \u001B[0mfilename\u001B[0m\u001B[1;33m:\u001B[0m\u001B[1;33m\u001B[0m\u001B[1;33m\u001B[0m\u001B[0m\n\u001B[1;32m-> 2975\u001B[1;33m         \u001B[0mfp\u001B[0m \u001B[1;33m=\u001B[0m \u001B[0mbuiltins\u001B[0m\u001B[1;33m.\u001B[0m\u001B[0mopen\u001B[0m\u001B[1;33m(\u001B[0m\u001B[0mfilename\u001B[0m\u001B[1;33m,\u001B[0m \u001B[1;34m\"rb\"\u001B[0m\u001B[1;33m)\u001B[0m\u001B[1;33m\u001B[0m\u001B[1;33m\u001B[0m\u001B[0m\n\u001B[0m\u001B[0;32m   2976\u001B[0m         \u001B[0mexclusive_fp\u001B[0m \u001B[1;33m=\u001B[0m \u001B[1;32mTrue\u001B[0m\u001B[1;33m\u001B[0m\u001B[1;33m\u001B[0m\u001B[0m\n\u001B[0;32m   2977\u001B[0m \u001B[1;33m\u001B[0m\u001B[0m\n",
      "\u001B[1;31mFileNotFoundError\u001B[0m: [Errno 2] No such file or directory: './bicycle.bmp'"
     ]
    }
   ],
   "source": [
    "image = Image.open('./bicycle.bmp')\n",
    "image = np.array(image)\n",
    "image2 = Image.open('./motorcycle.bmp')\n",
    "image2 = np.array(image2)\n",
    "final = myHybridImages(image,1,image2,2)\n",
    "Image.fromarray(final.astype(np.uint8))"
   ]
  },
  {
   "cell_type": "code",
   "execution_count": null,
   "metadata": {
    "pycharm": {
     "name": "#%%\n"
    }
   },
   "outputs": [],
   "source": []
  }
 ],
 "metadata": {
  "kernelspec": {
   "display_name": "Python 3",
   "language": "python",
   "name": "python3"
  },
  "language_info": {
   "codemirror_mode": {
    "name": "ipython",
    "version": 3
   },
   "file_extension": ".py",
   "mimetype": "text/x-python",
   "name": "python",
   "nbconvert_exporter": "python",
   "pygments_lexer": "ipython3",
   "version": "3.7.6"
  }
 },
 "nbformat": 4,
 "nbformat_minor": 4
}